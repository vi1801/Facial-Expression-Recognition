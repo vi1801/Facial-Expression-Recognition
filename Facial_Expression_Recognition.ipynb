{
  "nbformat": 4,
  "nbformat_minor": 0,
  "metadata": {
    "colab": {
      "provenance": [],
      "authorship_tag": "ABX9TyPLVfqylrbo6WAAP/kHZFM8",
      "include_colab_link": true
    },
    "kernelspec": {
      "name": "python3",
      "display_name": "Python 3"
    },
    "language_info": {
      "name": "python"
    }
  },
  "cells": [
    {
      "cell_type": "markdown",
      "metadata": {
        "id": "view-in-github",
        "colab_type": "text"
      },
      "source": [
        "<a href=\"https://colab.research.google.com/github/vi1801/Facial-Expression-Recognition/blob/main/Facial_Expression_Recognition.ipynb\" target=\"_parent\"><img src=\"https://colab.research.google.com/assets/colab-badge.svg\" alt=\"Open In Colab\"/></a>"
      ]
    },
    {
      "cell_type": "code",
      "execution_count": 1,
      "metadata": {
        "id": "VXHs1GSvu7kb",
        "colab": {
          "base_uri": "https://localhost:8080/"
        },
        "outputId": "9a77fd9d-5714-4153-a039-aa3e97f3d787"
      },
      "outputs": [
        {
          "output_type": "stream",
          "name": "stderr",
          "text": [
            "/usr/local/lib/python3.10/dist-packages/tensorflow_addons/utils/tfa_eol_msg.py:23: UserWarning: \n",
            "\n",
            "TensorFlow Addons (TFA) has ended development and introduction of new features.\n",
            "TFA has entered a minimal maintenance and release mode until a planned end of life in May 2024.\n",
            "Please modify downstream libraries to take dependencies from other repositories in our TensorFlow community (e.g. Keras, Keras-CV, and Keras-NLP). \n",
            "\n",
            "For more information see: https://github.com/tensorflow/addons/issues/2807 \n",
            "\n",
            "  warnings.warn(\n"
          ]
        }
      ],
      "source": [
        "import os\n",
        "import cv2\n",
        "import numpy as np\n",
        "import pandas as pd\n",
        "import matplotlib.pyplot as plt\n",
        "import tensorflow as tf\n",
        "import tensorflow_addons as tfa\n",
        "from sklearn.model_selection import train_test_split\n",
        "from sklearn.preprocessing import LabelEncoder\n",
        "from tensorflow.keras.models import Sequential\n",
        "from keras.layers import Conv2D, MaxPooling2D, Flatten, Dense, Dropout\n",
        "from keras.utils import to_categorical\n",
        "from keras.preprocessing.image import img_to_array,load_img\n",
        "from PIL import Image"
      ]
    },
    {
      "cell_type": "code",
      "source": [
        "from google.colab import drive\n",
        "drive.mount('/content/drive')"
      ],
      "metadata": {
        "colab": {
          "base_uri": "https://localhost:8080/"
        },
        "id": "iclWojmL6mO3",
        "outputId": "7aa12f14-8833-4498-9945-31f26e74e53c"
      },
      "execution_count": 2,
      "outputs": [
        {
          "output_type": "stream",
          "name": "stdout",
          "text": [
            "Drive already mounted at /content/drive; to attempt to forcibly remount, call drive.mount(\"/content/drive\", force_remount=True).\n"
          ]
        }
      ]
    },
    {
      "cell_type": "code",
      "source": [
        "data_path = '/content/drive/MyDrive/CK+'\n",
        "emotions = {'anger': 0, 'contempt': 1, 'disgust': 2, 'fear': 3, 'happy': 4, 'sadness': 5, 'surprise': 6}\n",
        "print(emotions)"
      ],
      "metadata": {
        "colab": {
          "base_uri": "https://localhost:8080/"
        },
        "id": "JSc-EkvC7qvH",
        "outputId": "88029a6c-cd0f-44c8-ca3e-715c734b211e"
      },
      "execution_count": 3,
      "outputs": [
        {
          "output_type": "stream",
          "name": "stdout",
          "text": [
            "{'anger': 0, 'contempt': 1, 'disgust': 2, 'fear': 3, 'happy': 4, 'sadness': 5, 'surprise': 6}\n"
          ]
        }
      ]
    },
    {
      "cell_type": "code",
      "source": [
        "def load_ck(data_path, emotions):\n",
        "    images = []\n",
        "    labels = []\n",
        "\n",
        "    for emotion, label in emotions.items():\n",
        "        emotion_path = os.path.join(data_path, emotion)\n",
        "        for img_name in os.listdir(emotion_path):\n",
        "            img_path = os.path.join(emotion_path, img_name)\n",
        "            img = cv2.imread(img_path, cv2.IMREAD_GRAYSCALE)\n",
        "            img = cv2.resize(img, (48, 48))  # Resize images to a common size\n",
        "            images.append(img)\n",
        "            labels.append(label)\n",
        "\n",
        "    return np.array(images), np.array(labels)"
      ],
      "metadata": {
        "id": "7vs5T6hR8rvX"
      },
      "execution_count": 4,
      "outputs": []
    },
    {
      "cell_type": "code",
      "source": [
        "def preprocess_data(images, labels):\n",
        "    images = images.reshape(images.shape[0], 48, 48, 1)\n",
        "    images = images.astype('float32') / 255.0\n",
        "    labels = tf.keras.utils.to_categorical(labels)\n",
        "    return images, labels"
      ],
      "metadata": {
        "id": "C_ozDuWgEoD9"
      },
      "execution_count": 5,
      "outputs": []
    },
    {
      "cell_type": "code",
      "source": [
        "def split_data(images, labels):\n",
        "  return train_test_split(images, labels, test_size=0.2, random_state=42)"
      ],
      "metadata": {
        "id": "sySy3jG6sciS"
      },
      "execution_count": 6,
      "outputs": []
    },
    {
      "cell_type": "code",
      "source": [
        "def load_ck(data_path, emotions):\n",
        "    images = []\n",
        "    labels = []\n",
        "\n",
        "    for emotion, label in emotions.items():\n",
        "        emotion_path = os.path.join(data_path, emotion)\n",
        "        for img_name in os.listdir(emotion_path):\n",
        "            img_path = os.path.join(emotion_path, img_name)\n",
        "            img = cv2.imread(img_path, cv2.IMREAD_GRAYSCALE)\n",
        "            if img is not None:  # Check if the image was loaded successfully\n",
        "                img = cv2.resize(img, (48, 48))  # Resize images to a common size\n",
        "                images.append(img)\n",
        "                labels.append(label)\n",
        "            else:\n",
        "                print(f\"Failed to load image: {img_path}\")\n",
        "\n",
        "    return np.array(images), np.array(labels)"
      ],
      "metadata": {
        "id": "ghB-dQMDt4nC"
      },
      "execution_count": 12,
      "outputs": []
    },
    {
      "cell_type": "code",
      "source": [
        "def train_model(model, X_train, y_train, epochs, batch_size):\n",
        "    return model.fit(X_train, y_train, epochs=epochs, batch_size=batch_size, validation_split=0.1)"
      ],
      "metadata": {
        "id": "VeWunvhz1yhB"
      },
      "execution_count": 13,
      "outputs": []
    },
    {
      "cell_type": "code",
      "source": [
        "def evaluate_model(model, X_test, y_test):\n",
        "    return model.evaluate(X_test, y_test)"
      ],
      "metadata": {
        "id": "QM0dI3Mn2cFt"
      },
      "execution_count": 14,
      "outputs": []
    },
    {
      "cell_type": "code",
      "source": [
        "def plot_accuracy(history):\n",
        "  plt.plot(history.history['accuracy'], label='accuracy')\n",
        "  plt.plot(history.history['val_accuracy'], label='val_accuracy')\n",
        "  plt.xlabel('Epoch')\n",
        "  plt.ylabel('Accuracy')\n",
        "  plt.legend()\n",
        "  plt.show()"
      ],
      "metadata": {
        "id": "6TuijlfC2fV6"
      },
      "execution_count": 15,
      "outputs": []
    },
    {
      "cell_type": "code",
      "source": [
        "images, labels = load_ck(data_path, emotions)\n",
        "images, labels = preprocess_data(images, labels)\n",
        "X_train, X_test, y_train, y_test = split_data(images, labels)\n",
        "input_shape = (48, 48, 1)\n",
        "num_classes = len(emotions)\n",
        "\n",
        "model = build_model(input_shape, num_classes)\n",
        "history = train_model(model, X_train, y_train, epochs=20, batch_size=32)\n",
        "accuracy = evaluate_model(model, X_test, y_test)[1]\n",
        "print(f'Test Accuracy: {accuracy}')\n",
        "\n",
        "plot_accuracy(history)"
      ],
      "metadata": {
        "colab": {
          "base_uri": "https://localhost:8080/",
          "height": 1000
        },
        "id": "BtdCh7jM35Nk",
        "outputId": "fb17859c-9800-42d7-bab4-a2a727622881"
      },
      "execution_count": 16,
      "outputs": [
        {
          "output_type": "stream",
          "name": "stdout",
          "text": [
            "Failed to load image: /content/drive/MyDrive/CK+/happy/.ipynb_checkpoints\n",
            "Epoch 1/20\n",
            "23/23 [==============================] - 3s 83ms/step - loss: 1.8780 - accuracy: 0.2252 - val_loss: 1.7990 - val_accuracy: 0.2278\n",
            "Epoch 2/20\n",
            "23/23 [==============================] - 1s 61ms/step - loss: 1.8347 - accuracy: 0.2493 - val_loss: 1.7879 - val_accuracy: 0.2025\n",
            "Epoch 3/20\n",
            "23/23 [==============================] - 1s 62ms/step - loss: 1.7675 - accuracy: 0.3484 - val_loss: 1.6098 - val_accuracy: 0.4304\n",
            "Epoch 4/20\n",
            "23/23 [==============================] - 1s 61ms/step - loss: 1.5575 - accuracy: 0.4717 - val_loss: 1.2796 - val_accuracy: 0.5443\n",
            "Epoch 5/20\n",
            "23/23 [==============================] - 1s 62ms/step - loss: 1.2033 - accuracy: 0.5680 - val_loss: 0.9375 - val_accuracy: 0.7089\n",
            "Epoch 6/20\n",
            "23/23 [==============================] - 2s 70ms/step - loss: 0.9980 - accuracy: 0.6331 - val_loss: 0.8447 - val_accuracy: 0.6962\n",
            "Epoch 7/20\n",
            "23/23 [==============================] - 2s 84ms/step - loss: 0.8709 - accuracy: 0.6841 - val_loss: 0.6525 - val_accuracy: 0.7595\n",
            "Epoch 8/20\n",
            "23/23 [==============================] - 1s 63ms/step - loss: 0.7512 - accuracy: 0.7040 - val_loss: 0.5333 - val_accuracy: 0.8354\n",
            "Epoch 9/20\n",
            "23/23 [==============================] - 1s 63ms/step - loss: 0.6365 - accuracy: 0.7776 - val_loss: 0.4594 - val_accuracy: 0.8354\n",
            "Epoch 10/20\n",
            "23/23 [==============================] - 1s 62ms/step - loss: 0.5604 - accuracy: 0.7946 - val_loss: 0.4422 - val_accuracy: 0.8608\n",
            "Epoch 11/20\n",
            "23/23 [==============================] - 1s 62ms/step - loss: 0.5150 - accuracy: 0.8059 - val_loss: 0.3453 - val_accuracy: 0.8861\n",
            "Epoch 12/20\n",
            "23/23 [==============================] - 1s 64ms/step - loss: 0.4377 - accuracy: 0.8428 - val_loss: 0.3147 - val_accuracy: 0.8608\n",
            "Epoch 13/20\n",
            "23/23 [==============================] - 1s 62ms/step - loss: 0.4516 - accuracy: 0.8159 - val_loss: 0.3053 - val_accuracy: 0.9114\n",
            "Epoch 14/20\n",
            "23/23 [==============================] - 2s 77ms/step - loss: 0.3690 - accuracy: 0.8527 - val_loss: 0.2405 - val_accuracy: 0.9114\n",
            "Epoch 15/20\n",
            "23/23 [==============================] - 2s 78ms/step - loss: 0.4597 - accuracy: 0.8456 - val_loss: 0.2835 - val_accuracy: 0.9241\n",
            "Epoch 16/20\n",
            "23/23 [==============================] - 1s 62ms/step - loss: 0.3875 - accuracy: 0.8442 - val_loss: 0.2536 - val_accuracy: 0.9114\n",
            "Epoch 17/20\n",
            "23/23 [==============================] - 1s 63ms/step - loss: 0.3402 - accuracy: 0.8768 - val_loss: 0.2133 - val_accuracy: 0.9241\n",
            "Epoch 18/20\n",
            "23/23 [==============================] - 1s 63ms/step - loss: 0.2938 - accuracy: 0.8952 - val_loss: 0.1701 - val_accuracy: 0.9367\n",
            "Epoch 19/20\n",
            "23/23 [==============================] - 1s 62ms/step - loss: 0.2696 - accuracy: 0.9008 - val_loss: 0.1324 - val_accuracy: 0.9620\n",
            "Epoch 20/20\n",
            "23/23 [==============================] - 1s 63ms/step - loss: 0.2477 - accuracy: 0.9051 - val_loss: 0.1665 - val_accuracy: 0.9241\n",
            "7/7 [==============================] - 0s 16ms/step - loss: 0.1728 - accuracy: 0.9746\n",
            "Test Accuracy: 0.9746192693710327\n"
          ]
        },
        {
          "output_type": "display_data",
          "data": {
            "text/plain": [
              "<Figure size 640x480 with 1 Axes>"
            ],
            "image/png": "[encoded data removed]"
          },
          "metadata": {}
        }
      ]
    },
    {
      "cell_type": "code",
      "source": [
        "test_image_path = '/content/drive/MyDrive/CK+/disgust/S011_005_00000020.png'\n",
        "test_image = cv2.imread(test_image_path, cv2.IMREAD_GRAYSCALE)\n",
        "test_image = cv2.resize(test_image, (48, 48))\n",
        "test_image = test_image.astype('float32') / 255.0\n",
        "test_image = np.expand_dims(test_image, axis=-1)  # Expand dimensions to include channels\n",
        "test_image = np.expand_dims(test_image, axis=0)   # Expand dimensions to include batch size\n",
        "\n",
        "predictions = model.predict(test_image)\n",
        "\n",
        "predicted_class = np.argmax(predictions)\n",
        "predicted_emotion = [emotion for emotion, label in emotions.items() if label == predicted_class][0]\n",
        "\n",
        "print(f'Predicted Emotion: {predicted_emotion}')"
      ],
      "metadata": {
        "colab": {
          "base_uri": "https://localhost:8080/"
        },
        "id": "RmDgESyODJKL",
        "outputId": "a37cd8de-3dc6-4523-f90e-8f04d852170d"
      },
      "execution_count": 53,
      "outputs": [
        {
          "output_type": "stream",
          "name": "stdout",
          "text": [
            "1/1 [==============================] - 0s 28ms/step\n",
            "Predicted Emotion: disgust\n"
          ]
        }
      ]
    },
    {
      "cell_type": "code",
      "source": [
        "image = Image.open(test_image_path)\n",
        "\n",
        "plt.imshow(image)\n",
        "plt.axis('off')  # Optional: Turn off axis\n",
        "plt.show()"
      ],
      "metadata": {
        "id": "s0THsNpwHcOK",
        "colab": {
          "base_uri": "https://localhost:8080/",
          "height": 406
        },
        "outputId": "659643fa-c4c7-446f-eeef-ed6a314cb173"
      },
      "execution_count": 54,
      "outputs": [
        {
          "output_type": "display_data",
          "data": {
            "text/plain": [
              "<Figure size 640x480 with 1 Axes>"
            ],
            "image/png": "[encoded data removed]"
          },
          "metadata": {}
        }
      ]
    },
    {
      "cell_type": "code",
      "source": [
        "def build_vit_model(input_shape, num_classes):\n",
        "    model = tf.keras.Sequential([\n",
        "        tf.keras.layers.Input(shape=input_shape),\n",
        "        # You can implement the Vision Transformer architecture using TensorFlow's layers\n",
        "        # Here's a simplified example, you may need to adjust it based on your specific requirements\n",
        "        tf.keras.layers.Conv2D(64, kernel_size=(3, 3), activation='relu'),\n",
        "        tf.keras.layers.MaxPooling2D(pool_size=(2, 2)),\n",
        "        tf.keras.layers.Conv2D(128, kernel_size=(3, 3), activation='relu'),\n",
        "        tf.keras.layers.MaxPooling2D(pool_size=(2, 2)),\n",
        "        tf.keras.layers.Conv2D(256, kernel_size=(3, 3), activation='relu'),\n",
        "        tf.keras.layers.MaxPooling2D(pool_size=(2, 2)),\n",
        "        tf.keras.layers.Flatten(),\n",
        "        tf.keras.layers.Dense(128, activation='relu'),\n",
        "        tf.keras.layers.Dropout(0.5),\n",
        "        tf.keras.layers.Dense(num_classes, activation='softmax')\n",
        "    ])\n",
        "\n",
        "    model.compile(optimizer='adam', loss='categorical_crossentropy', metrics=['accuracy'])\n",
        "    return model"
      ],
      "metadata": {
        "id": "yhaHo51fNmbl"
      },
      "execution_count": 31,
      "outputs": []
    },
    {
      "cell_type": "code",
      "source": [
        "def train_model(model, X_train, y_train, epochs, batch_size):\n",
        "    return model.fit(X_train, y_train, epochs=epochs, batch_size=batch_size, validation_split=0.1)"
      ],
      "metadata": {
        "id": "Cd800mEoNtdT"
      },
      "execution_count": 32,
      "outputs": []
    },
    {
      "cell_type": "code",
      "source": [
        "def evaluate_model(model, X_test, y_test):\n",
        "  return model.evaluate(X_test, y_test)"
      ],
      "metadata": {
        "id": "T6trdjgANwho"
      },
      "execution_count": 33,
      "outputs": []
    },
    {
      "cell_type": "code",
      "source": [
        "def plot_accuracy(history):\n",
        "  plt.plot(history.history['accuracy'], label='accuracy')\n",
        "  plt.plot(history.history['val_accuracy'], label='val_accuracy')\n",
        "  plt.xlabel('Epoch')\n",
        "  plt.ylabel('Accuracy')\n",
        "  plt.legend()\n",
        "  plt.show()"
      ],
      "metadata": {
        "id": "xh7TtExrOAPG"
      },
      "execution_count": 34,
      "outputs": []
    },
    {
      "cell_type": "code",
      "source": [
        "model = build_vit_model(input_shape, num_classes)\n",
        "history = train_model(model, X_train, y_train, epochs=20, batch_size=32)\n",
        "accuracy = evaluate_model(model, X_test, y_test)[1]\n",
        "print(f'Test Accuracy: {accuracy}')"
      ],
      "metadata": {
        "colab": {
          "base_uri": "https://localhost:8080/"
        },
        "id": "2cE7FaooPC59",
        "outputId": "adc59eb4-9d4c-420b-816c-1e4d3387a709"
      },
      "execution_count": 35,
      "outputs": [
        {
          "output_type": "stream",
          "name": "stdout",
          "text": [
            "Epoch 1/20\n",
            "23/23 [==============================] - 5s 188ms/step - loss: 1.8710 - accuracy: 0.2408 - val_loss: 1.8079 - val_accuracy: 0.2025\n",
            "Epoch 2/20\n",
            "23/23 [==============================] - 5s 208ms/step - loss: 1.7929 - accuracy: 0.3059 - val_loss: 1.7565 - val_accuracy: 0.3924\n",
            "Epoch 3/20\n",
            "23/23 [==============================] - 4s 179ms/step - loss: 1.5537 - accuracy: 0.4476 - val_loss: 1.3145 - val_accuracy: 0.4304\n",
            "Epoch 4/20\n",
            "23/23 [==============================] - 4s 183ms/step - loss: 1.2470 - accuracy: 0.5326 - val_loss: 0.9561 - val_accuracy: 0.6329\n",
            "Epoch 5/20\n",
            "23/23 [==============================] - 5s 212ms/step - loss: 1.0092 - accuracy: 0.5992 - val_loss: 0.7874 - val_accuracy: 0.6709\n",
            "Epoch 6/20\n",
            "23/23 [==============================] - 4s 183ms/step - loss: 0.7867 - accuracy: 0.7040 - val_loss: 0.6070 - val_accuracy: 0.8228\n",
            "Epoch 7/20\n",
            "23/23 [==============================] - 5s 201ms/step - loss: 0.6792 - accuracy: 0.7422 - val_loss: 0.4937 - val_accuracy: 0.8481\n",
            "Epoch 8/20\n",
            "23/23 [==============================] - 4s 192ms/step - loss: 0.5990 - accuracy: 0.7776 - val_loss: 0.4611 - val_accuracy: 0.8481\n",
            "Epoch 9/20\n",
            "23/23 [==============================] - 4s 181ms/step - loss: 0.5352 - accuracy: 0.7805 - val_loss: 0.4178 - val_accuracy: 0.8481\n",
            "Epoch 10/20\n",
            "23/23 [==============================] - 5s 210ms/step - loss: 0.4897 - accuracy: 0.8130 - val_loss: 0.3070 - val_accuracy: 0.8734\n",
            "Epoch 11/20\n",
            "23/23 [==============================] - 4s 181ms/step - loss: 0.4795 - accuracy: 0.8159 - val_loss: 0.2945 - val_accuracy: 0.8608\n",
            "Epoch 12/20\n",
            "23/23 [==============================] - 4s 182ms/step - loss: 0.4433 - accuracy: 0.8102 - val_loss: 0.3120 - val_accuracy: 0.9114\n",
            "Epoch 13/20\n",
            "23/23 [==============================] - 5s 210ms/step - loss: 0.3758 - accuracy: 0.8669 - val_loss: 0.1828 - val_accuracy: 0.9620\n",
            "Epoch 14/20\n",
            "23/23 [==============================] - 4s 183ms/step - loss: 0.3438 - accuracy: 0.8654 - val_loss: 0.2195 - val_accuracy: 0.9494\n",
            "Epoch 15/20\n",
            "23/23 [==============================] - 4s 180ms/step - loss: 0.3184 - accuracy: 0.8669 - val_loss: 0.1893 - val_accuracy: 0.9873\n",
            "Epoch 16/20\n",
            "23/23 [==============================] - 5s 205ms/step - loss: 0.3073 - accuracy: 0.8839 - val_loss: 0.1478 - val_accuracy: 0.9620\n",
            "Epoch 17/20\n",
            "23/23 [==============================] - 4s 182ms/step - loss: 0.3220 - accuracy: 0.8626 - val_loss: 0.1813 - val_accuracy: 0.9367\n",
            "Epoch 18/20\n",
            "23/23 [==============================] - 5s 209ms/step - loss: 0.2803 - accuracy: 0.9023 - val_loss: 0.1237 - val_accuracy: 0.9747\n",
            "Epoch 19/20\n",
            "23/23 [==============================] - 4s 183ms/step - loss: 0.3224 - accuracy: 0.8853 - val_loss: 0.1669 - val_accuracy: 0.9620\n",
            "Epoch 20/20\n",
            "23/23 [==============================] - 4s 183ms/step - loss: 0.2669 - accuracy: 0.8938 - val_loss: 0.1293 - val_accuracy: 0.9747\n",
            "7/7 [==============================] - 0s 45ms/step - loss: 0.1996 - accuracy: 0.9594\n",
            "Test Accuracy: 0.9593908786773682\n"
          ]
        }
      ]
    },
    {
      "cell_type": "code",
      "source": [
        "plot_accuracy(history)"
      ],
      "metadata": {
        "colab": {
          "base_uri": "https://localhost:8080/",
          "height": 449
        },
        "id": "7h8gEVrVShHk",
        "outputId": "3b4dde15-ac83-487c-b3bc-ac74d37b4a65"
      },
      "execution_count": 36,
      "outputs": [
        {
          "output_type": "display_data",
          "data": {
            "text/plain": [
              "<Figure size 640x480 with 1 Axes>"
            ],
            "image/png": "[encoded data removed]"
          },
          "metadata": {}
        }
      ]
    },
    {
      "cell_type": "code",
      "source": [
        "import numpy as np\n",
        "\n",
        "y_pred = model.predict(X_test)\n",
        "y_pred_classes = np.argmax(y_pred, axis=1)\n",
        "\n",
        "y_test_classes = np.argmax(y_test, axis=1)\n",
        "\n",
        "for i in range(len(y_pred_classes)):\n",
        "  if y_pred_classes[i] == y_test_classes[i]:\n",
        "    print(f\"Sample {i}: Predicted: {y_pred_classes[i]}, Actual: {y_test_classes[i]} - Correct Prediction\")\n",
        "  else:\n",
        "    print(f\"Sample {i}: Predicted: {y_pred_classes[i]}, Actual: {y_test_classes[i]} - Incorrect Prediction\")"
      ],
      "metadata": {
        "colab": {
          "base_uri": "https://localhost:8080/"
        },
        "id": "X53rCKOcSmkn",
        "outputId": "619da10c-6ee7-4a55-cef8-4cf968c76657"
      },
      "execution_count": 37,
      "outputs": [
        {
          "output_type": "stream",
          "name": "stdout",
          "text": [
            "7/7 [==============================] - 1s 66ms/step\n",
            "Sample 0: Predicted: 6, Actual: 6 - Correct Prediction\n",
            "Sample 1: Predicted: 6, Actual: 6 - Correct Prediction\n",
            "Sample 2: Predicted: 5, Actual: 6 - Incorrect Prediction\n",
            "Sample 3: Predicted: 4, Actual: 4 - Correct Prediction\n",
            "Sample 4: Predicted: 0, Actual: 0 - Correct Prediction\n",
            "Sample 5: Predicted: 6, Actual: 6 - Correct Prediction\n",
            "Sample 6: Predicted: 5, Actual: 5 - Correct Prediction\n",
            "Sample 7: Predicted: 2, Actual: 2 - Correct Prediction\n",
            "Sample 8: Predicted: 4, Actual: 4 - Correct Prediction\n",
            "Sample 9: Predicted: 4, Actual: 4 - Correct Prediction\n",
            "Sample 10: Predicted: 4, Actual: 4 - Correct Prediction\n",
            "Sample 11: Predicted: 4, Actual: 4 - Correct Prediction\n",
            "Sample 12: Predicted: 6, Actual: 6 - Correct Prediction\n",
            "Sample 13: Predicted: 2, Actual: 2 - Correct Prediction\n",
            "Sample 14: Predicted: 2, Actual: 2 - Correct Prediction\n",
            "Sample 15: Predicted: 2, Actual: 2 - Correct Prediction\n",
            "Sample 16: Predicted: 0, Actual: 0 - Correct Prediction\n",
            "Sample 17: Predicted: 3, Actual: 3 - Correct Prediction\n",
            "Sample 18: Predicted: 0, Actual: 0 - Correct Prediction\n",
            "Sample 19: Predicted: 2, Actual: 2 - Correct Prediction\n",
            "Sample 20: Predicted: 2, Actual: 2 - Correct Prediction\n",
            "Sample 21: Predicted: 1, Actual: 1 - Correct Prediction\n",
            "Sample 22: Predicted: 6, Actual: 6 - Correct Prediction\n",
            "Sample 23: Predicted: 0, Actual: 0 - Correct Prediction\n",
            "Sample 24: Predicted: 4, Actual: 4 - Correct Prediction\n",
            "Sample 25: Predicted: 6, Actual: 6 - Correct Prediction\n",
            "Sample 26: Predicted: 2, Actual: 2 - Correct Prediction\n",
            "Sample 27: Predicted: 4, Actual: 4 - Correct Prediction\n",
            "Sample 28: Predicted: 2, Actual: 2 - Correct Prediction\n",
            "Sample 29: Predicted: 6, Actual: 6 - Correct Prediction\n",
            "Sample 30: Predicted: 1, Actual: 1 - Correct Prediction\n",
            "Sample 31: Predicted: 3, Actual: 3 - Correct Prediction\n",
            "Sample 32: Predicted: 2, Actual: 2 - Correct Prediction\n",
            "Sample 33: Predicted: 0, Actual: 0 - Correct Prediction\n",
            "Sample 34: Predicted: 0, Actual: 0 - Correct Prediction\n",
            "Sample 35: Predicted: 4, Actual: 4 - Correct Prediction\n",
            "Sample 36: Predicted: 2, Actual: 2 - Correct Prediction\n",
            "Sample 37: Predicted: 6, Actual: 6 - Correct Prediction\n",
            "Sample 38: Predicted: 2, Actual: 2 - Correct Prediction\n",
            "Sample 39: Predicted: 4, Actual: 4 - Correct Prediction\n",
            "Sample 40: Predicted: 2, Actual: 6 - Incorrect Prediction\n",
            "Sample 41: Predicted: 4, Actual: 4 - Correct Prediction\n",
            "Sample 42: Predicted: 2, Actual: 2 - Correct Prediction\n",
            "Sample 43: Predicted: 4, Actual: 4 - Correct Prediction\n",
            "Sample 44: Predicted: 5, Actual: 5 - Correct Prediction\n",
            "Sample 45: Predicted: 6, Actual: 6 - Correct Prediction\n",
            "Sample 46: Predicted: 6, Actual: 6 - Correct Prediction\n",
            "Sample 47: Predicted: 0, Actual: 0 - Correct Prediction\n",
            "Sample 48: Predicted: 6, Actual: 6 - Correct Prediction\n",
            "Sample 49: Predicted: 2, Actual: 2 - Correct Prediction\n",
            "Sample 50: Predicted: 3, Actual: 3 - Correct Prediction\n",
            "Sample 51: Predicted: 2, Actual: 2 - Correct Prediction\n",
            "Sample 52: Predicted: 4, Actual: 4 - Correct Prediction\n",
            "Sample 53: Predicted: 4, Actual: 4 - Correct Prediction\n",
            "Sample 54: Predicted: 0, Actual: 0 - Correct Prediction\n",
            "Sample 55: Predicted: 0, Actual: 0 - Correct Prediction\n",
            "Sample 56: Predicted: 0, Actual: 0 - Correct Prediction\n",
            "Sample 57: Predicted: 5, Actual: 5 - Correct Prediction\n",
            "Sample 58: Predicted: 3, Actual: 3 - Correct Prediction\n",
            "Sample 59: Predicted: 2, Actual: 2 - Correct Prediction\n",
            "Sample 60: Predicted: 5, Actual: 6 - Incorrect Prediction\n",
            "Sample 61: Predicted: 0, Actual: 0 - Correct Prediction\n",
            "Sample 62: Predicted: 6, Actual: 6 - Correct Prediction\n",
            "Sample 63: Predicted: 0, Actual: 0 - Correct Prediction\n",
            "Sample 64: Predicted: 2, Actual: 2 - Correct Prediction\n",
            "Sample 65: Predicted: 2, Actual: 2 - Correct Prediction\n",
            "Sample 66: Predicted: 2, Actual: 2 - Correct Prediction\n",
            "Sample 67: Predicted: 4, Actual: 4 - Correct Prediction\n",
            "Sample 68: Predicted: 5, Actual: 5 - Correct Prediction\n",
            "Sample 69: Predicted: 1, Actual: 1 - Correct Prediction\n",
            "Sample 70: Predicted: 6, Actual: 6 - Correct Prediction\n",
            "Sample 71: Predicted: 5, Actual: 6 - Incorrect Prediction\n",
            "Sample 72: Predicted: 2, Actual: 2 - Correct Prediction\n",
            "Sample 73: Predicted: 2, Actual: 2 - Correct Prediction\n",
            "Sample 74: Predicted: 1, Actual: 1 - Correct Prediction\n",
            "Sample 75: Predicted: 5, Actual: 5 - Correct Prediction\n",
            "Sample 76: Predicted: 0, Actual: 0 - Correct Prediction\n",
            "Sample 77: Predicted: 6, Actual: 6 - Correct Prediction\n",
            "Sample 78: Predicted: 5, Actual: 5 - Correct Prediction\n",
            "Sample 79: Predicted: 6, Actual: 6 - Correct Prediction\n",
            "Sample 80: Predicted: 4, Actual: 4 - Correct Prediction\n",
            "Sample 81: Predicted: 2, Actual: 2 - Correct Prediction\n",
            "Sample 82: Predicted: 2, Actual: 2 - Correct Prediction\n",
            "Sample 83: Predicted: 6, Actual: 6 - Correct Prediction\n",
            "Sample 84: Predicted: 6, Actual: 6 - Correct Prediction\n",
            "Sample 85: Predicted: 2, Actual: 2 - Correct Prediction\n",
            "Sample 86: Predicted: 0, Actual: 5 - Incorrect Prediction\n",
            "Sample 87: Predicted: 5, Actual: 5 - Correct Prediction\n",
            "Sample 88: Predicted: 6, Actual: 6 - Correct Prediction\n",
            "Sample 89: Predicted: 6, Actual: 6 - Correct Prediction\n",
            "Sample 90: Predicted: 0, Actual: 0 - Correct Prediction\n",
            "Sample 91: Predicted: 2, Actual: 2 - Correct Prediction\n",
            "Sample 92: Predicted: 1, Actual: 6 - Incorrect Prediction\n",
            "Sample 93: Predicted: 2, Actual: 2 - Correct Prediction\n",
            "Sample 94: Predicted: 5, Actual: 5 - Correct Prediction\n",
            "Sample 95: Predicted: 6, Actual: 6 - Correct Prediction\n",
            "Sample 96: Predicted: 4, Actual: 4 - Correct Prediction\n",
            "Sample 97: Predicted: 5, Actual: 1 - Incorrect Prediction\n",
            "Sample 98: Predicted: 6, Actual: 6 - Correct Prediction\n",
            "Sample 99: Predicted: 4, Actual: 4 - Correct Prediction\n",
            "Sample 100: Predicted: 2, Actual: 2 - Correct Prediction\n",
            "Sample 101: Predicted: 4, Actual: 4 - Correct Prediction\n",
            "Sample 102: Predicted: 4, Actual: 4 - Correct Prediction\n",
            "Sample 103: Predicted: 4, Actual: 4 - Correct Prediction\n",
            "Sample 104: Predicted: 2, Actual: 2 - Correct Prediction\n",
            "Sample 105: Predicted: 5, Actual: 5 - Correct Prediction\n",
            "Sample 106: Predicted: 6, Actual: 6 - Correct Prediction\n",
            "Sample 107: Predicted: 6, Actual: 6 - Correct Prediction\n",
            "Sample 108: Predicted: 6, Actual: 6 - Correct Prediction\n",
            "Sample 109: Predicted: 4, Actual: 4 - Correct Prediction\n",
            "Sample 110: Predicted: 0, Actual: 0 - Correct Prediction\n",
            "Sample 111: Predicted: 4, Actual: 4 - Correct Prediction\n",
            "Sample 112: Predicted: 4, Actual: 4 - Correct Prediction\n",
            "Sample 113: Predicted: 6, Actual: 6 - Correct Prediction\n",
            "Sample 114: Predicted: 4, Actual: 4 - Correct Prediction\n",
            "Sample 115: Predicted: 0, Actual: 0 - Correct Prediction\n",
            "Sample 116: Predicted: 2, Actual: 2 - Correct Prediction\n",
            "Sample 117: Predicted: 0, Actual: 0 - Correct Prediction\n",
            "Sample 118: Predicted: 5, Actual: 5 - Correct Prediction\n",
            "Sample 119: Predicted: 4, Actual: 4 - Correct Prediction\n",
            "Sample 120: Predicted: 4, Actual: 4 - Correct Prediction\n",
            "Sample 121: Predicted: 4, Actual: 4 - Correct Prediction\n",
            "Sample 122: Predicted: 5, Actual: 5 - Correct Prediction\n",
            "Sample 123: Predicted: 2, Actual: 2 - Correct Prediction\n",
            "Sample 124: Predicted: 2, Actual: 2 - Correct Prediction\n",
            "Sample 125: Predicted: 4, Actual: 4 - Correct Prediction\n",
            "Sample 126: Predicted: 2, Actual: 2 - Correct Prediction\n",
            "Sample 127: Predicted: 4, Actual: 4 - Correct Prediction\n",
            "Sample 128: Predicted: 6, Actual: 6 - Correct Prediction\n",
            "Sample 129: Predicted: 4, Actual: 4 - Correct Prediction\n",
            "Sample 130: Predicted: 1, Actual: 1 - Correct Prediction\n",
            "Sample 131: Predicted: 6, Actual: 6 - Correct Prediction\n",
            "Sample 132: Predicted: 2, Actual: 2 - Correct Prediction\n",
            "Sample 133: Predicted: 6, Actual: 6 - Correct Prediction\n",
            "Sample 134: Predicted: 6, Actual: 6 - Correct Prediction\n",
            "Sample 135: Predicted: 3, Actual: 3 - Correct Prediction\n",
            "Sample 136: Predicted: 0, Actual: 0 - Correct Prediction\n",
            "Sample 137: Predicted: 4, Actual: 4 - Correct Prediction\n",
            "Sample 138: Predicted: 3, Actual: 3 - Correct Prediction\n",
            "Sample 139: Predicted: 6, Actual: 6 - Correct Prediction\n",
            "Sample 140: Predicted: 5, Actual: 5 - Correct Prediction\n",
            "Sample 141: Predicted: 4, Actual: 4 - Correct Prediction\n",
            "Sample 142: Predicted: 2, Actual: 2 - Correct Prediction\n",
            "Sample 143: Predicted: 4, Actual: 4 - Correct Prediction\n",
            "Sample 144: Predicted: 4, Actual: 4 - Correct Prediction\n",
            "Sample 145: Predicted: 5, Actual: 5 - Correct Prediction\n",
            "Sample 146: Predicted: 4, Actual: 4 - Correct Prediction\n",
            "Sample 147: Predicted: 2, Actual: 2 - Correct Prediction\n",
            "Sample 148: Predicted: 0, Actual: 0 - Correct Prediction\n",
            "Sample 149: Predicted: 4, Actual: 4 - Correct Prediction\n",
            "Sample 150: Predicted: 6, Actual: 6 - Correct Prediction\n",
            "Sample 151: Predicted: 6, Actual: 6 - Correct Prediction\n",
            "Sample 152: Predicted: 6, Actual: 6 - Correct Prediction\n",
            "Sample 153: Predicted: 3, Actual: 3 - Correct Prediction\n",
            "Sample 154: Predicted: 3, Actual: 3 - Correct Prediction\n",
            "Sample 155: Predicted: 6, Actual: 6 - Correct Prediction\n",
            "Sample 156: Predicted: 4, Actual: 4 - Correct Prediction\n",
            "Sample 157: Predicted: 4, Actual: 4 - Correct Prediction\n",
            "Sample 158: Predicted: 3, Actual: 3 - Correct Prediction\n",
            "Sample 159: Predicted: 4, Actual: 4 - Correct Prediction\n",
            "Sample 160: Predicted: 1, Actual: 1 - Correct Prediction\n",
            "Sample 161: Predicted: 2, Actual: 2 - Correct Prediction\n",
            "Sample 162: Predicted: 4, Actual: 4 - Correct Prediction\n",
            "Sample 163: Predicted: 2, Actual: 2 - Correct Prediction\n",
            "Sample 164: Predicted: 6, Actual: 6 - Correct Prediction\n",
            "Sample 165: Predicted: 2, Actual: 2 - Correct Prediction\n",
            "Sample 166: Predicted: 4, Actual: 4 - Correct Prediction\n",
            "Sample 167: Predicted: 3, Actual: 3 - Correct Prediction\n",
            "Sample 168: Predicted: 4, Actual: 4 - Correct Prediction\n",
            "Sample 169: Predicted: 2, Actual: 2 - Correct Prediction\n",
            "Sample 170: Predicted: 4, Actual: 4 - Correct Prediction\n",
            "Sample 171: Predicted: 2, Actual: 2 - Correct Prediction\n",
            "Sample 172: Predicted: 0, Actual: 0 - Correct Prediction\n",
            "Sample 173: Predicted: 0, Actual: 0 - Correct Prediction\n",
            "Sample 174: Predicted: 3, Actual: 3 - Correct Prediction\n",
            "Sample 175: Predicted: 6, Actual: 6 - Correct Prediction\n",
            "Sample 176: Predicted: 6, Actual: 6 - Correct Prediction\n",
            "Sample 177: Predicted: 4, Actual: 4 - Correct Prediction\n",
            "Sample 178: Predicted: 1, Actual: 1 - Correct Prediction\n",
            "Sample 179: Predicted: 6, Actual: 6 - Correct Prediction\n",
            "Sample 180: Predicted: 5, Actual: 5 - Correct Prediction\n",
            "Sample 181: Predicted: 4, Actual: 4 - Correct Prediction\n",
            "Sample 182: Predicted: 0, Actual: 0 - Correct Prediction\n",
            "Sample 183: Predicted: 1, Actual: 1 - Correct Prediction\n",
            "Sample 184: Predicted: 2, Actual: 2 - Correct Prediction\n",
            "Sample 185: Predicted: 3, Actual: 3 - Correct Prediction\n",
            "Sample 186: Predicted: 2, Actual: 2 - Correct Prediction\n",
            "Sample 187: Predicted: 6, Actual: 6 - Correct Prediction\n",
            "Sample 188: Predicted: 6, Actual: 6 - Correct Prediction\n",
            "Sample 189: Predicted: 3, Actual: 3 - Correct Prediction\n",
            "Sample 190: Predicted: 6, Actual: 6 - Correct Prediction\n",
            "Sample 191: Predicted: 5, Actual: 5 - Correct Prediction\n",
            "Sample 192: Predicted: 6, Actual: 6 - Correct Prediction\n",
            "Sample 193: Predicted: 4, Actual: 4 - Correct Prediction\n",
            "Sample 194: Predicted: 0, Actual: 0 - Correct Prediction\n",
            "Sample 195: Predicted: 0, Actual: 5 - Incorrect Prediction\n",
            "Sample 196: Predicted: 2, Actual: 2 - Correct Prediction\n"
          ]
        }
      ]
    },
    {
      "cell_type": "code",
      "source": [
        "test_image_path = '/content/drive/MyDrive/CK+/disgust/S011_005_00000020.png'\n",
        "test_image = cv2.imread(test_image_path, cv2.IMREAD_GRAYSCALE)\n",
        "test_image = cv2.resize(test_image, (48, 48))\n",
        "test_image = test_image.astype('float32') / 255.0\n",
        "test_image = np.expand_dims(test_image, axis=(0, 3))  # Add an additional dimension\n",
        "predictions = model.predict(test_image)\n",
        "\n",
        "predicted_class = np.argmax(predictions)\n",
        "predicted_emotion = [emotion for emotion, label in emotions.items() if label == predicted_class][0]\n",
        "image = Image.open(test_image_path)\n",
        "\n",
        "plt.imshow(image)\n",
        "plt.axis('off')  # Optional: Turn off axis\n",
        "plt.show()\n",
        "print(f'Predicted Emotion: {predicted_emotion}')"
      ],
      "metadata": {
        "colab": {
          "base_uri": "https://localhost:8080/",
          "height": 441
        },
        "id": "WDgoNyuST5WU",
        "outputId": "4956234b-3717-4ee5-f2da-99c5f9b599f8"
      },
      "execution_count": 52,
      "outputs": [
        {
          "output_type": "stream",
          "name": "stdout",
          "text": [
            "1/1 [==============================] - 0s 29ms/step\n"
          ]
        },
        {
          "output_type": "display_data",
          "data": {
            "text/plain": [
              "<Figure size 640x480 with 1 Axes>"
            ],
            "image/png": "[encoded data removed]"
          },
          "metadata": {}
        },
        {
          "output_type": "stream",
          "name": "stdout",
          "text": [
            "Predicted Emotion: disgust\n"
          ]
        }
      ]
    }
  ]
}